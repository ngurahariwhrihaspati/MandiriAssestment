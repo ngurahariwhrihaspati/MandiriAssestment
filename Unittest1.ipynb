{
 "cells": [
  {
   "cell_type": "code",
   "execution_count": 1,
   "id": "6eda427d",
   "metadata": {},
   "outputs": [],
   "source": [
    "class users:\n",
    "    \n",
    "    raise_amt = 1.05\n",
    "    \n",
    "    def __init__(self, first, last, pay):\n",
    "        self.first = first\n",
    "        self.last = last\n",
    "        self.pay = pay\n",
    "        \n",
    "    def email(self):\n",
    "        return '{}.{}@email.com'.format(self.first, self.last)\n",
    "    \n",
    "    def fullname(self):\n",
    "        return '{} {}'.format(self.first, self.last)\n",
    "    \n",
    "    def apply_raise(self):\n",
    "        self.pay = int(self.pay * self.raise_amt)"
   ]
  },
  {
   "cell_type": "code",
   "execution_count": 7,
   "id": "eec784e6",
   "metadata": {},
   "outputs": [],
   "source": [
    "user = {}\n",
    "\n",
    "Kolom_list = ['Id','Nama', 'Email', 'No_telp']\n",
    "user1 = ('01','Ngurah Ariwhrihaspati','whrihaspati@gmail.com','082117858490')\n",
    "user2 = ('02','Wahana Bina Karya','ptwahanabkm@gmail.com','082112510821')"
   ]
  },
  {
   "cell_type": "code",
   "execution_count": 14,
   "id": "ab9f9da8",
   "metadata": {},
   "outputs": [
    {
     "data": {
      "text/plain": [
       "{'Id': ['01', '02'],\n",
       " 'Nama': ['Ngurah Ariwhrihaspati', 'Wahana Bina Karya'],\n",
       " 'Email': ['whrihaspati@gmail.com', 'ptwahanabkm@gmail.com'],\n",
       " 'No_telp': ['082117858490', '082112510821']}"
      ]
     },
     "execution_count": 14,
     "metadata": {},
     "output_type": "execute_result"
    }
   ],
   "source": [
    "for i in range(0,4):\n",
    "    x = {Kolom_list[i]:[user1[i],user2[i]]}\n",
    "    user.update(x)\n",
    "user"
   ]
  },
  {
   "cell_type": "code",
   "execution_count": 15,
   "id": "363c8771",
   "metadata": {},
   "outputs": [
    {
     "data": {
      "text/plain": [
       "['Ngurah Ariwhrihaspati', 'Wahana Bina Karya']"
      ]
     },
     "execution_count": 15,
     "metadata": {},
     "output_type": "execute_result"
    }
   ],
   "source": [
    "user['Nama']"
   ]
  },
  {
   "cell_type": "code",
   "execution_count": 16,
   "id": "77ba292e",
   "metadata": {},
   "outputs": [
    {
     "data": {
      "text/plain": [
       "['whrihaspati@gmail.com', 'ptwahanabkm@gmail.com']"
      ]
     },
     "execution_count": 16,
     "metadata": {},
     "output_type": "execute_result"
    }
   ],
   "source": [
    "user['Email']"
   ]
  }
 ],
 "metadata": {
  "kernelspec": {
   "display_name": "Python 3 (ipykernel)",
   "language": "python",
   "name": "python3"
  },
  "language_info": {
   "codemirror_mode": {
    "name": "ipython",
    "version": 3
   },
   "file_extension": ".py",
   "mimetype": "text/x-python",
   "name": "python",
   "nbconvert_exporter": "python",
   "pygments_lexer": "ipython3",
   "version": "3.9.7"
  }
 },
 "nbformat": 4,
 "nbformat_minor": 5
}
